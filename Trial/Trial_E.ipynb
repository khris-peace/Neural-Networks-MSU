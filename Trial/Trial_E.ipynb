{
  "nbformat": 4,
  "nbformat_minor": 0,
  "metadata": {
    "colab": {
      "provenance": []
    },
    "kernelspec": {
      "name": "python3",
      "display_name": "Python 3"
    },
    "language_info": {
      "name": "python"
    }
  },
  "cells": [
    {
      "cell_type": "code",
      "execution_count": null,
      "metadata": {
        "id": "lkS9n37MK-BC"
      },
      "outputs": [],
      "source": [
        "'''Условие, при котором матрицы  A[hA×wA]  и  B[hB×wB]  можно перемножить:\n",
        "wA==hB \n",
        "\n",
        "Результатом будет  C=A×B  с размерностью  [hA×wB] \n",
        "\n",
        "Определитель можем взять только от квадратной матрицы. Значит,  hA  должно быть равно  wB \n",
        "Только при выполнении обоих условий, выражение  det(A×B)  может быть вычислено. В противном случае, нас просят вывести размерности  hA,wA,hB,wb  через пробел.'''\n",
        "\n",
        "data = np.load('input.npz')\n",
        "mat_a = data['a']\n",
        "mat_b = data['b']\n",
        "\n",
        "ha, wa = mat_a.shape\n",
        "hb, wb = mat_b.shape\n",
        "\n",
        "if wa == hb and ha == wb:\n",
        "    mat_c = np.matmul(mat_a, mat_b)\n",
        "    det = np.linalg.det(mat_c)\n",
        "    result = np.abs(det)\n",
        "    print(f'{result:.6f}')\n",
        "else:\n",
        "    print(ha, wa, hb, wb)"
      ]
    }
  ]
}