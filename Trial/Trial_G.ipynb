{
  "nbformat": 4,
  "nbformat_minor": 0,
  "metadata": {
    "colab": {
      "provenance": []
    },
    "kernelspec": {
      "name": "python3",
      "display_name": "Python 3"
    },
    "language_info": {
      "name": "python"
    }
  },
  "cells": [
    {
      "cell_type": "code",
      "execution_count": null,
      "metadata": {
        "id": "AcDYjSUKZtpb"
      },
      "outputs": [],
      "source": [
        "h = list(map(int, input().split(' ')))\n",
        "\n",
        "best_volume = 0\n",
        "left, right = 0, len(h) - 1\n",
        "\n",
        "\n",
        "while right > left:\n",
        "    volume = 1 * (right - left) * min(h[right], h[left])\n",
        "    if volume > best_volume:\n",
        "        best_volume = volume\n",
        "\n",
        "    if h[left] > h[right]:\n",
        "        right -= 1\n",
        "    else:\n",
        "        left += 1\n",
        "\n",
        "print(best_volume)"
      ]
    }
  ]
}