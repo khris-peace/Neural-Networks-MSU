{
  "nbformat": 4,
  "nbformat_minor": 0,
  "metadata": {
    "colab": {
      "provenance": []
    },
    "kernelspec": {
      "name": "python3",
      "display_name": "Python 3"
    },
    "language_info": {
      "name": "python"
    }
  },
  "cells": [
    {
      "cell_type": "code",
      "execution_count": 2,
      "metadata": {
        "colab": {
          "base_uri": "https://localhost:8080/"
        },
        "id": "1ZHGLKSB2b5f",
        "outputId": "f140c88b-4b2a-46cd-90c7-59a985710466"
      },
      "outputs": [
        {
          "output_type": "stream",
          "name": "stdout",
          "text": [
            "4 17 36 -11\n",
            "0.875 20.5\n"
          ]
        }
      ],
      "source": [
        "Ent = input().split()\n",
        "k1 = int(Ent[0])\n",
        "b1 = int(Ent[1])\n",
        "k2 = int(Ent[2])\n",
        "b2 = int(Ent[3])\n",
        "\n",
        "\n",
        "if k1 == k2:\n",
        "  print('-1')\n",
        "else:\n",
        "  x0 = (b2 - b1) / (k1 - k2)\n",
        "  y0 = (k1 * x0) + b1\n",
        "  print(x0, y0)"
      ]
    }
  ]
}