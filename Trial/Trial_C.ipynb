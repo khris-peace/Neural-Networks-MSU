{
  "nbformat": 4,
  "nbformat_minor": 0,
  "metadata": {
    "colab": {
      "provenance": []
    },
    "kernelspec": {
      "name": "python3",
      "display_name": "Python 3"
    },
    "language_info": {
      "name": "python"
    }
  },
  "cells": [
    {
      "cell_type": "code",
      "execution_count": null,
      "metadata": {
        "id": "-rL1I4DJASuH"
      },
      "outputs": [],
      "source": [
        "S1 = input()\n",
        "S2 = input()\n",
        "c = input()\n",
        "\n",
        "p, l = 0, 0 #counters\n",
        "\n",
        "for i in S1:\n",
        "  if c == i:\n",
        "      p += 1\n",
        "  \n",
        "for j in S2:\n",
        "  if c == j:\n",
        "      l += 1\n",
        "\n",
        "print(p-l)"
      ]
    }
  ]
}