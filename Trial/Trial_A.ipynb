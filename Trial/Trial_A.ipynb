{
  "nbformat": 4,
  "nbformat_minor": 0,
  "metadata": {
    "colab": {
      "provenance": []
    },
    "kernelspec": {
      "name": "python3",
      "display_name": "Python 3"
    },
    "language_info": {
      "name": "python"
    }
  },
  "cells": [
    {
      "cell_type": "code",
      "execution_count": 7,
      "metadata": {
        "colab": {
          "base_uri": "https://localhost:8080/"
        },
        "id": "ufFOwypiyu4F",
        "outputId": "cc52042e-4d19-4004-cc3a-a1bb743ca0c8"
      },
      "outputs": [
        {
          "output_type": "stream",
          "name": "stdout",
          "text": [
            "44 -2\n",
            "42\n"
          ]
        }
      ],
      "source": [
        "Ent = input().split()\n",
        "A = int(Ent[0])\n",
        "B = int(Ent[1])\n",
        "\n",
        "print(A+B)"
      ]
    }
  ]
}