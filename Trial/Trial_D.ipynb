{
  "nbformat": 4,
  "nbformat_minor": 0,
  "metadata": {
    "colab": {
      "provenance": []
    },
    "kernelspec": {
      "name": "python3",
      "display_name": "Python 3"
    },
    "language_info": {
      "name": "python"
    }
  },
  "cells": [
    {
      "cell_type": "code",
      "execution_count": null,
      "metadata": {
        "id": "gsjiL2VlErA_"
      },
      "outputs": [],
      "source": [
        "import numpy as np\n",
        "\n",
        "input_array = np.load('input.npy')\n",
        "\n",
        "result_array = np.mean(input_array, axis=(1,2))\n",
        "\n",
        "np.save('output', result_array)"
      ]
    }
  ]
}